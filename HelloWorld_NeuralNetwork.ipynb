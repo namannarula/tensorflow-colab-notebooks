{
  "nbformat": 4,
  "nbformat_minor": 0,
  "metadata": {
    "colab": {
      "name": "HelloWorld_NeuralNetwork",
      "provenance": [],
      "authorship_tag": "ABX9TyO/3mt6J9CnsdcZ/Bck+qyk",
      "include_colab_link": true
    },
    "kernelspec": {
      "name": "python3",
      "display_name": "Python 3"
    },
    "language_info": {
      "name": "python"
    }
  },
  "cells": [
    {
      "cell_type": "markdown",
      "metadata": {
        "id": "view-in-github",
        "colab_type": "text"
      },
      "source": [
        "<a href=\"https://colab.research.google.com/github/namannarula/tensorflow-colab-notebooks/blob/main/HelloWorld_NeuralNetwork.ipynb\" target=\"_parent\"><img src=\"https://colab.research.google.com/assets/colab-badge.svg\" alt=\"Open In Colab\"/></a>"
      ]
    },
    {
      "cell_type": "markdown",
      "metadata": {
        "id": "GEuwT_Ccgmoi"
      },
      "source": [
        "# **Installing TensorFlow 2.0 Alpha**"
      ]
    },
    {
      "cell_type": "code",
      "metadata": {
        "id": "PzoQL3e0bYRM"
      },
      "source": [
        "!pip install tensorflow==2.0.0-alpha0 "
      ],
      "execution_count": null,
      "outputs": []
    },
    {
      "cell_type": "markdown",
      "metadata": {
        "id": "U-E7UDESg0lg"
      },
      "source": [
        "# **Importing Libraries**"
      ]
    },
    {
      "cell_type": "code",
      "metadata": {
        "id": "8TCH7vbmcHzv"
      },
      "source": [
        "import tensorflow as tf\n",
        "import numpy as np\n",
        "from tensorflow import keras"
      ],
      "execution_count": null,
      "outputs": []
    },
    {
      "cell_type": "markdown",
      "metadata": {
        "id": "9uIbdyM2ih_d"
      },
      "source": [
        "# **Define and compile the Neural Network**"
      ]
    },
    {
      "cell_type": "code",
      "metadata": {
        "id": "V6jKH-noicJ7"
      },
      "source": [
        "model = tf.keras.Sequential([keras.layers.Dense(units=1, input_shape=[1])])"
      ],
      "execution_count": 11,
      "outputs": []
    },
    {
      "cell_type": "code",
      "metadata": {
        "id": "J7RfrM5Divuj"
      },
      "source": [
        "model.compile(optimizer='sgd', loss='mean_squared_error')"
      ],
      "execution_count": 12,
      "outputs": []
    },
    {
      "cell_type": "markdown",
      "metadata": {
        "id": "QQTNBX3hiq_a"
      },
      "source": [
        "# **Providing the Data**"
      ]
    },
    {
      "cell_type": "code",
      "metadata": {
        "id": "SJbgwHFLjAZ-"
      },
      "source": [
        "xs = np.array([-1.0,  0.0, 1.0, 2.0, 3.0, 4.0], dtype=float)\n",
        "ys = np.array([-3.0, -1.0, 1.0, 3.0, 5.0, 7.0], dtype=float)"
      ],
      "execution_count": 13,
      "outputs": []
    },
    {
      "cell_type": "markdown",
      "metadata": {
        "id": "ffEIcAwWjHu8"
      },
      "source": [
        "# **Training the Model**"
      ]
    },
    {
      "cell_type": "code",
      "metadata": {
        "id": "MgoMDEPbjVQa"
      },
      "source": [
        "model.fit(xs, ys, epochs=1800)"
      ],
      "execution_count": null,
      "outputs": []
    },
    {
      "cell_type": "markdown",
      "metadata": {
        "id": "iRzYw9qejaBM"
      },
      "source": [
        "# **Predict the Model**"
      ]
    },
    {
      "cell_type": "code",
      "metadata": {
        "colab": {
          "base_uri": "https://localhost:8080/"
        },
        "id": "6kRkWjrHjhuL",
        "outputId": "b362f300-4f76-42ac-b605-0abb9805f09a"
      },
      "source": [
        "print(model.predict([10.0]))"
      ],
      "execution_count": 15,
      "outputs": [
        {
          "output_type": "stream",
          "text": [
            "[[18.4059]]\n"
          ],
          "name": "stdout"
        }
      ]
    }
  ]
}